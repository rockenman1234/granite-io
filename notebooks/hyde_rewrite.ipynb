{
 "cells": [
  {
   "cell_type": "markdown",
   "id": "3ed2fe42-4a04-46fc-bd59-8438fce8690a",
   "metadata": {},
   "source": [
    "### This notebook showcases how to use a HyDE Rewrite IO Processer\n",
    "\n",
    "* HyDERewriteIOProcessor only considers the last user input\n",
    "* It then asks the backend to generate an answer for the user input\n",
    "* Finally, it enriches the last user input by appending the generated answer\n",
    "\n",
    "The modified user input in essence repreresents \"Query + Answer\". This could lead to better Retrieval"
   ]
  },
  {
   "cell_type": "code",
   "execution_count": null,
   "id": "ee5816dd-e93b-4b30-a40c-aa67eea3d586",
   "metadata": {},
   "outputs": [],
   "source": [
    "from granite_io.backend.vllm_server import LocalVLLMServer\n",
    "from granite_io.io.granite_3_3.input_processors.granite_3_3_input_processor import (\n",
    "    Granite3Point3Inputs,\n",
    ")"
   ]
  },
  {
   "cell_type": "code",
   "execution_count": null,
   "id": "5cab3feb-3144-402d-9b16-7a665a344835",
   "metadata": {},
   "outputs": [],
   "source": [
    "from granite_io.io.hyde_rewrite import HyDERewriteIOProcessor"
   ]
  },
  {
   "cell_type": "code",
   "execution_count": null,
   "id": "d4e587cf-2e9f-4ee8-a1a9-28b41bdb1cf9",
   "metadata": {},
   "outputs": [],
   "source": [
    "model_name = \"ibm-granite/granite-3.3-8b-instruct\""
   ]
  },
  {
   "cell_type": "code",
   "execution_count": null,
   "id": "77a2f40f-2978-4261-afb1-c397663bbb89",
   "metadata": {},
   "outputs": [],
   "source": [
    "server = LocalVLLMServer(model_name)"
   ]
  },
  {
   "cell_type": "code",
   "execution_count": null,
   "id": "74f0bd83-8139-4de4-b98a-f171c62ec964",
   "metadata": {},
   "outputs": [],
   "source": [
    "server.wait_for_startup(200)"
   ]
  },
  {
   "cell_type": "code",
   "execution_count": null,
   "id": "cb56a9b3-eeed-4603-9b2e-aa772fb28d89",
   "metadata": {},
   "outputs": [],
   "source": [
    "backend = server.make_backend()"
   ]
  },
  {
   "cell_type": "code",
   "execution_count": null,
   "id": "414a8a63-0a9f-48c2-a281-a8eb8df63bb5",
   "metadata": {},
   "outputs": [],
   "source": [
    "# Create an example chat completion with a short conversation.\n",
    "chat_input = Granite3Point3Inputs.model_validate(\n",
    "    {\n",
    "        \"messages\": [\n",
    "            {\"role\": \"assistant\", \"content\": \"Welcome to pet questions!\"},\n",
    "            {\n",
    "                \"role\": \"user\",\n",
    "                \"content\": \"I have two pets, a dog named Rex and a cat named Lucy.\",\n",
    "            },\n",
    "            {\n",
    "                \"role\": \"assistant\",\n",
    "                \"content\": \"Great, what would you like to share about them?\",\n",
    "            },\n",
    "            {\n",
    "                \"role\": \"user\",\n",
    "                \"content\": \"Rex spends a lot of time in the backyard and outdoors, \"\n",
    "                \"and Luna is always inside.\",\n",
    "            },\n",
    "            {\n",
    "                \"role\": \"assistant\",\n",
    "                \"content\": \"Sounds good! Rex must love exploring outside, while Lucy \"\n",
    "                \"probably enjoys her cozy indoor life.\",\n",
    "            },\n",
    "            {\n",
    "                \"role\": \"user\",\n",
    "                \"content\": \"But is he more likely to get fleas because of that?\",\n",
    "            },\n",
    "        ],\n",
    "        \"generate_inputs\": {\"temperature\": 0.0},\n",
    "    }\n",
    ")\n",
    "chat_input"
   ]
  },
  {
   "cell_type": "code",
   "execution_count": null,
   "id": "002ea7c5-1fc5-4c21-8bcb-639cc6f74095",
   "metadata": {},
   "outputs": [],
   "source": [
    "io_proc = HyDERewriteIOProcessor(backend)"
   ]
  },
  {
   "cell_type": "code",
   "execution_count": null,
   "id": "84c93827-f7c8-4520-a146-eb9aa647b693",
   "metadata": {},
   "outputs": [],
   "source": [
    "chat_result = await io_proc.acreate_chat_completion(chat_input)\n",
    "print(chat_result.results[0].next_message.model_dump_json(indent=2))"
   ]
  },
  {
   "cell_type": "code",
   "execution_count": null,
   "id": "8eed2eca-1a7f-480f-a0d0-b304b539958e",
   "metadata": {},
   "outputs": [],
   "source": [
    "chat_result"
   ]
  },
  {
   "cell_type": "code",
   "execution_count": null,
   "id": "01e44729-e7fe-45f3-b6c8-c41c82bde29a",
   "metadata": {},
   "outputs": [],
   "source": [
    "# Free up GPU resources\n",
    "if \"server\" in locals():\n",
    "    server.shutdown()"
   ]
  },
  {
   "cell_type": "code",
   "execution_count": null,
   "id": "8a471a2d-7c86-4038-80a4-3144e5711e69",
   "metadata": {},
   "outputs": [],
   "source": []
  }
 ],
 "metadata": {
  "kernelspec": {
   "display_name": "Python 3",
   "language": "python",
   "name": "python3"
  },
  "language_info": {
   "codemirror_mode": {
    "name": "ipython",
    "version": 3
   },
   "file_extension": ".py",
   "mimetype": "text/x-python",
   "name": "python",
   "nbconvert_exporter": "python",
   "pygments_lexer": "ipython3",
   "version": "3.11.13"
  }
 },
 "nbformat": 4,
 "nbformat_minor": 5
}
